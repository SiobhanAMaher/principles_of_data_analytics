{
 "cells": [
  {
   "cell_type": "markdown",
   "metadata": {},
   "source": [
    "# Types"
   ]
  },
  {
   "cell_type": "code",
   "execution_count": 18,
   "metadata": {},
   "outputs": [],
   "source": [
    "# Data structures\n",
    "import struct"
   ]
  },
  {
   "cell_type": "markdown",
   "metadata": {},
   "source": [
    "# Stevens Scales of Measurement\n",
    "\n",
    "Stevens, S On the theory of Scales of Measurements\n",
    "http://www.jstor.org/stable/1671815\n",
    "\n",
    "Four scales of measurement in 1946\n",
    "\n",
    "1. **Nominal**: Categorises data without any orders (e.g gender, blood type)\n",
    "e.g. gender, there is no order to it i.e. females are not above males and males aren't above females\n",
    "blood, a is not before o, they are just types\n",
    "\n",
    "2. **Ordinal**: Rank data but without consistent intervals (e.g. survey ratings, race positions)\n",
    "e.g. race position 1st, 2nd, 3rd \n",
    "survey: strongly agree, agree, neutral, disagree, strongly disagree\n",
    "\n",
    "3. **Interval**: Measures ordered data with equal intervals but no true zero (e.g. temperature in Celcius, IQ scores)\n",
    "e.g. 0 celcius does not mean zero temperature, that there is no temperature in the thing\n",
    "\n",
    "4. **Ratio**: Has ordered data, equal intervals, and a true zero (e.g. weight, height, age, income)\n",
    "e.g. zero income means you have zero money - 0 means there is none"
   ]
  },
  {
   "cell_type": "markdown",
   "metadata": {},
   "source": [
    "# Types in Python\n",
    "\n",
    "https://docs.python.org/3/library/stdtypes.html\n",
    "\n",
    "1. Numeric\n",
    "- int e.g. 42\n",
    "- float e.g. 3.14\n",
    "- complex e.g. 2 + 3j (j=imaginary numbers,i is a common variable name so not used in Python; imaginary numbers aren't really imaginary!)\n",
    "\n",
    "2. Boolean / Binary\n",
    "- bool e.g. True, False\n",
    "- bytes e.g. b'hello'\n",
    "- bytearray (mutable version of bytes)\n",
    "- memoryview (view over binary data)\n",
    "\n",
    "3. Sequence\n",
    "- str e.g. \"hello\"\n",
    "- list e.g.[1, 2, 3]\n",
    "- tuple e.g. (1, 2, 3)\n",
    "\n",
    "4. Other\n",
    "- set (e.g. {1, 2, 3})\n",
    "- frozenset (immutable version of set)\n",
    "- dict e.g. {\"key\": \"value\"}"
   ]
  },
  {
   "cell_type": "markdown",
   "metadata": {},
   "source": [
    "# Binary Integers"
   ]
  },
  {
   "cell_type": "code",
   "execution_count": 19,
   "metadata": {},
   "outputs": [
    {
     "data": {
      "text/plain": [
       "42"
      ]
     },
     "execution_count": 19,
     "metadata": {},
     "output_type": "execute_result"
    }
   ],
   "source": [
    "# Example integer - literal written in decimal\n",
    "num = 42\n",
    "\n",
    "# Show\n",
    "num"
   ]
  },
  {
   "cell_type": "code",
   "execution_count": 20,
   "metadata": {},
   "outputs": [
    {
     "data": {
      "text/plain": [
       "'0b101010'"
      ]
     },
     "execution_count": 20,
     "metadata": {},
     "output_type": "execute_result"
    }
   ],
   "source": [
    "# In binary\n",
    "bin(num)"
   ]
  },
  {
   "cell_type": "code",
   "execution_count": 21,
   "metadata": {},
   "outputs": [
    {
     "data": {
      "text/plain": [
       "'101010'"
      ]
     },
     "execution_count": 21,
     "metadata": {},
     "output_type": "execute_result"
    }
   ],
   "source": [
    "# Remove 0b\n",
    "bin(num) [2:]"
   ]
  },
  {
   "cell_type": "code",
   "execution_count": 22,
   "metadata": {},
   "outputs": [
    {
     "name": "stdout",
     "output_type": "stream",
     "text": [
      " 101010\n"
     ]
    }
   ],
   "source": [
    "# use f-strings\n",
    "# https://realpython.com/python-f-strings/\n",
    "print (f\" {num:b}\")"
   ]
  },
  {
   "cell_type": "code",
   "execution_count": 23,
   "metadata": {},
   "outputs": [
    {
     "name": "stdout",
     "output_type": "stream",
     "text": [
      "42\n"
     ]
    }
   ],
   "source": [
    "# Literal in binary\n",
    "print (0b101010)"
   ]
  },
  {
   "cell_type": "code",
   "execution_count": 24,
   "metadata": {},
   "outputs": [
    {
     "name": "stdout",
     "output_type": "stream",
     "text": [
      "-101010\n"
     ]
    }
   ],
   "source": [
    "#negative numbers\n",
    "print (f'{-42:b}')"
   ]
  },
  {
   "cell_type": "markdown",
   "metadata": {},
   "source": [
    "# Binary Strings\n",
    "\n",
    "You can see the **binary representation** of a character in Python by converting it to its Unicode (ASCII) value using ord(), then using bin()."
   ]
  },
  {
   "cell_type": "code",
   "execution_count": 25,
   "metadata": {},
   "outputs": [
    {
     "data": {
      "text/plain": [
       "'A'"
      ]
     },
     "execution_count": 25,
     "metadata": {},
     "output_type": "execute_result"
    }
   ],
   "source": [
    "# Character A\n",
    "char = 'A'\n",
    "\n",
    "# Show\n",
    "char"
   ]
  },
  {
   "cell_type": "code",
   "execution_count": 26,
   "metadata": {},
   "outputs": [
    {
     "data": {
      "text/plain": [
       "65"
      ]
     },
     "execution_count": 26,
     "metadata": {},
     "output_type": "execute_result"
    }
   ],
   "source": [
    "#Ordinal value\n",
    "ord(char)"
   ]
  },
  {
   "cell_type": "code",
   "execution_count": 27,
   "metadata": {},
   "outputs": [
    {
     "data": {
      "text/plain": [
       "'0b1000001'"
      ]
     },
     "execution_count": 27,
     "metadata": {},
     "output_type": "execute_result"
    }
   ],
   "source": [
    "#Binary\n",
    "bin(ord(char))"
   ]
  },
  {
   "cell_type": "markdown",
   "metadata": {},
   "source": [
    "# Binary Floats\n",
    "\n",
    "https://docs.python.org/3/library/struct.html\n",
    "\n",
    "Python does not have a built-in function like bin() for floats.\n",
    "You can use the struct module to see the IEEE 754 binary representation of a float.\n",
    "This is quite advanced\n",
    "bin() only works for integers, won't work for floating numbers"
   ]
  },
  {
   "cell_type": "code",
   "execution_count": 28,
   "metadata": {},
   "outputs": [
    {
     "data": {
      "text/plain": [
       "3.14"
      ]
     },
     "execution_count": 28,
     "metadata": {},
     "output_type": "execute_result"
    }
   ],
   "source": [
    "# Float\n",
    "num = 3.14\n",
    "\n",
    "#Show\n",
    "num"
   ]
  },
  {
   "cell_type": "markdown",
   "metadata": {},
   "source": [
    "Python will store decimals as integers but just remember where to put the decimal\n",
    "e.g. 3.14 stored as 314, Python will remember to put the decimal after 3\n",
    "\n",
    "Floating point numbers binary representation is much more complex\n",
    "\n",
    "If you are adding two floating point numbers together you have to separate into its parts, figures out where the decimal point is - it's much more difficult!"
   ]
  },
  {
   "cell_type": "code",
   "execution_count": 29,
   "metadata": {},
   "outputs": [
    {
     "name": "stdout",
     "output_type": "stream",
     "text": [
      "01000000010010001111010111000011\n"
     ]
    }
   ],
   "source": [
    "# 32 bit representation\n",
    "binary_representation = '' .join (f\"{b:08b}\" for b in struct.pack ('!f',num))\n",
    "print (binary_representation)"
   ]
  },
  {
   "cell_type": "markdown",
   "metadata": {},
   "source": [
    "# Machine Words\n",
    "\n",
    "-Fixed size based on CPU architecture e.g. 32-bit,64-bit\n",
    "-Can store integers, addresses or raw data\n",
    "-Used in low-level operations like memory addressing"
   ]
  },
  {
   "cell_type": "markdown",
   "metadata": {},
   "source": [
    "# Operators\n",
    "The + operator in Python does something different for different types"
   ]
  },
  {
   "cell_type": "code",
   "execution_count": 30,
   "metadata": {},
   "outputs": [
    {
     "data": {
      "text/plain": [
       "8"
      ]
     },
     "execution_count": 30,
     "metadata": {},
     "output_type": "execute_result"
    }
   ],
   "source": [
    "# Integer\n",
    "3 + 5"
   ]
  },
  {
   "cell_type": "code",
   "execution_count": 31,
   "metadata": {},
   "outputs": [
    {
     "data": {
      "text/plain": [
       "8.0"
      ]
     },
     "execution_count": 31,
     "metadata": {},
     "output_type": "execute_result"
    }
   ],
   "source": [
    "# Float\n",
    "3.0 + 5.0"
   ]
  },
  {
   "cell_type": "code",
   "execution_count": 32,
   "metadata": {},
   "outputs": [
    {
     "data": {
      "text/plain": [
       "'35'"
      ]
     },
     "execution_count": 32,
     "metadata": {},
     "output_type": "execute_result"
    }
   ],
   "source": [
    "# String\n",
    "'3' + '5'"
   ]
  },
  {
   "cell_type": "code",
   "execution_count": 33,
   "metadata": {},
   "outputs": [
    {
     "data": {
      "text/plain": [
       "[3, 5]"
      ]
     },
     "execution_count": 33,
     "metadata": {},
     "output_type": "execute_result"
    }
   ],
   "source": [
    "# List\n",
    "[3] + [5]\n"
   ]
  },
  {
   "cell_type": "code",
   "execution_count": 34,
   "metadata": {},
   "outputs": [
    {
     "data": {
      "text/plain": [
       "'33333'"
      ]
     },
     "execution_count": 34,
     "metadata": {},
     "output_type": "execute_result"
    }
   ],
   "source": [
    "# Add int to a string -  this won't work\n",
    "# Or multiply - but this will repeat the string by the multiplyer\n",
    "'3' * 5"
   ]
  },
  {
   "cell_type": "markdown",
   "metadata": {},
   "source": [
    "# Why Types?\n",
    "\n",
    "1. Memory Efficiency\n",
    "Types define how much memory a value occupies e.g. int vs float\n",
    "\n",
    "2. Prevent Errors\n",
    "Type checking catches mistakes early e.g. adding a string to an integer\n",
    "\n",
    "3. Improve Performance\n",
    "Compilers and interpreters optimise code based on known types\n",
    "\n",
    "4. Provide Meaninful Operations\n",
    "Types define what operations are valid  e.g. division for float, concat for str\n",
    "\n",
    "5. Enhance Code Readability\n",
    "Explicit types make code easier to understand and debug\n",
    "\n",
    "6. Enable Better Tooling\n",
    "IDEs, linters and static analysers use types for better suggestions and error detection."
   ]
  }
 ],
 "metadata": {
  "kernelspec": {
   "display_name": "Python 3",
   "language": "python",
   "name": "python3"
  },
  "language_info": {
   "codemirror_mode": {
    "name": "ipython",
    "version": 3
   },
   "file_extension": ".py",
   "mimetype": "text/x-python",
   "name": "python",
   "nbconvert_exporter": "python",
   "pygments_lexer": "ipython3",
   "version": "3.12.1"
  }
 },
 "nbformat": 4,
 "nbformat_minor": 2
}
